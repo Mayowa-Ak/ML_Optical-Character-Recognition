{
 "cells": [
  {
   "cell_type": "code",
   "execution_count": 1,
   "id": "0d48af77",
   "metadata": {},
   "outputs": [],
   "source": [
    "import tensorflow as tf\n",
    "from tensorflow import keras\n",
    "from keras.datasets import mnist\n",
    "from keras.models import Sequential\n",
    "from keras.layers import Dense, Activation, Flatten, Conv2D, MaxPooling2D\n",
    "import matplotlib.pyplot as plt\n",
    "import numpy as np\n",
    "from tensorflow import math\n",
    "import seaborn as sns\n",
    "import cv2"
   ]
  },
  {
   "cell_type": "code",
   "execution_count": 2,
   "id": "76b6451d",
   "metadata": {},
   "outputs": [],
   "source": [
    "(x_train, y_train), (x_test, y_test) = mnist.load_data()"
   ]
  },
  {
   "cell_type": "code",
   "execution_count": 3,
   "id": "9de19b6d",
   "metadata": {},
   "outputs": [],
   "source": [
    "# Normalize\n",
    "x_train = x_train / 255\n",
    "x_test = x_test / 255"
   ]
  },
  {
   "cell_type": "code",
   "execution_count": 4,
   "id": "117a5d55",
   "metadata": {},
   "outputs": [
    {
     "data": {
      "text/plain": [
       "<matplotlib.image.AxesImage at 0x1f0e772fb80>"
      ]
     },
     "execution_count": 4,
     "metadata": {},
     "output_type": "execute_result"
    },
    {
     "data": {
      "image/png": "[encoded data removed]",
      "text/plain": [
       "<Figure size 432x288 with 1 Axes>"
      ]
     },
     "metadata": {
      "needs_background": "light"
     },
     "output_type": "display_data"
    }
   ],
   "source": [
    "plt.imshow(x_train[0])"
   ]
  },
  {
   "cell_type": "code",
   "execution_count": 5,
   "id": "f57ecb7c",
   "metadata": {},
   "outputs": [
    {
     "data": {
      "text/plain": [
       "5"
      ]
     },
     "execution_count": 5,
     "metadata": {},
     "output_type": "execute_result"
    }
   ],
   "source": [
    "y_train[0]"
   ]
  },
  {
   "cell_type": "code",
   "execution_count": 6,
   "id": "5b085c3a",
   "metadata": {},
   "outputs": [
    {
     "data": {
      "text/plain": [
       "(60000, 28, 28, 1)"
      ]
     },
     "execution_count": 6,
     "metadata": {},
     "output_type": "execute_result"
    }
   ],
   "source": [
    "# Reshaping for convolution\n",
    "IMG_SIZE = 28\n",
    "x_train_rs = np.array(x_train).reshape(-1, IMG_SIZE, IMG_SIZE, 1)\n",
    "x_test_rs = np.array(x_test).reshape(-1, IMG_SIZE, IMG_SIZE, 1)\n",
    "x_train_rs.shape\n"
   ]
  },
  {
   "cell_type": "code",
   "execution_count": 7,
   "id": "74042296",
   "metadata": {},
   "outputs": [
    {
     "data": {
      "text/plain": [
       "(10000, 28, 28, 1)"
      ]
     },
     "execution_count": 7,
     "metadata": {},
     "output_type": "execute_result"
    }
   ],
   "source": [
    "x_test_rs.shape"
   ]
  },
  {
   "cell_type": "code",
   "execution_count": 8,
   "id": "1c44e6d6",
   "metadata": {},
   "outputs": [
    {
     "name": "stdout",
     "output_type": "stream",
     "text": [
      "Epoch 1/5\n",
      "1313/1313 [==============================] - 60s 29ms/step - loss: 0.6239 - accuracy: 0.7929 - val_loss: 0.1051 - val_accuracy: 0.9681\n",
      "Epoch 2/5\n",
      "1313/1313 [==============================] - 37s 28ms/step - loss: 0.1014 - accuracy: 0.9696 - val_loss: 0.0931 - val_accuracy: 0.9717\n",
      "Epoch 3/5\n",
      "1313/1313 [==============================] - 37s 28ms/step - loss: 0.0704 - accuracy: 0.9774 - val_loss: 0.0778 - val_accuracy: 0.9761\n",
      "Epoch 4/5\n",
      "1313/1313 [==============================] - 39s 30ms/step - loss: 0.0519 - accuracy: 0.9833 - val_loss: 0.0625 - val_accuracy: 0.9826\n",
      "Epoch 5/5\n",
      "1313/1313 [==============================] - 40s 30ms/step - loss: 0.0438 - accuracy: 0.9867 - val_loss: 0.0711 - val_accuracy: 0.9796\n"
     ]
    },
    {
     "data": {
      "text/plain": [
       "<keras.callbacks.History at 0x1f0e7a0fb50>"
      ]
     },
     "execution_count": 8,
     "metadata": {},
     "output_type": "execute_result"
    }
   ],
   "source": [
    "# CNN\n",
    "model = Sequential([\n",
    "    \n",
    "    Conv2D(filters = 64, kernel_size = (3,3), activation = 'relu', input_shape = (IMG_SIZE, IMG_SIZE, 1)),\n",
    "    MaxPooling2D((2,2)),\n",
    "    \n",
    "    Conv2D(filters = 64, kernel_size = (3,3), activation = 'relu'),\n",
    "    MaxPooling2D((2,2)),\n",
    "    \n",
    "    Conv2D(filters = 64, kernel_size = (3,3), activation = 'relu'),\n",
    "    MaxPooling2D((2,2)),\n",
    "\n",
    "    \n",
    "    Flatten(),\n",
    "    Dense(64, activation = 'relu'),\n",
    "    Dense(32, activation = 'relu'),\n",
    "    Dense(10, activation = 'softmax')\n",
    "])\n",
    "model.compile(\n",
    "    optimizer = 'adam',\n",
    "    loss = 'sparse_categorical_crossentropy',\n",
    "    metrics= ['accuracy']\n",
    ")\n",
    "\n",
    "model.fit(x_train_rs, y_train, epochs=5, validation_split = 0.3)\n"
   ]
  },
  {
   "cell_type": "code",
   "execution_count": 9,
   "id": "c16e23c5",
   "metadata": {},
   "outputs": [
    {
     "name": "stdout",
     "output_type": "stream",
     "text": [
      "Model: \"sequential\"\n",
      "_________________________________________________________________\n",
      "Layer (type)                 Output Shape              Param #   \n",
      "=================================================================\n",
      "conv2d (Conv2D)              (None, 26, 26, 64)        640       \n",
      "_________________________________________________________________\n",
      "max_pooling2d (MaxPooling2D) (None, 13, 13, 64)        0         \n",
      "_________________________________________________________________\n",
      "conv2d_1 (Conv2D)            (None, 11, 11, 64)        36928     \n",
      "_________________________________________________________________\n",
      "max_pooling2d_1 (MaxPooling2 (None, 5, 5, 64)          0         \n",
      "_________________________________________________________________\n",
      "conv2d_2 (Conv2D)            (None, 3, 3, 64)          36928     \n",
      "_________________________________________________________________\n",
      "max_pooling2d_2 (MaxPooling2 (None, 1, 1, 64)          0         \n",
      "_________________________________________________________________\n",
      "flatten (Flatten)            (None, 64)                0         \n",
      "_________________________________________________________________\n",
      "dense (Dense)                (None, 64)                4160      \n",
      "_________________________________________________________________\n",
      "dense_1 (Dense)              (None, 32)                2080      \n",
      "_________________________________________________________________\n",
      "dense_2 (Dense)              (None, 10)                330       \n",
      "=================================================================\n",
      "Total params: 81,066\n",
      "Trainable params: 81,066\n",
      "Non-trainable params: 0\n",
      "_________________________________________________________________\n"
     ]
    }
   ],
   "source": [
    "model.summary()\n",
    "\n"
   ]
  },
  {
   "cell_type": "code",
   "execution_count": 10,
   "id": "037a02c4",
   "metadata": {},
   "outputs": [
    {
     "name": "stdout",
     "output_type": "stream",
     "text": [
      "313/313 [==============================] - 2s 8ms/step - loss: 0.0646 - accuracy: 0.9816\n",
      "Test loss on 10000 test samples 0.06463179737329483\n",
      "Validation Accuracy on 10000 test samples 0.9815999865531921\n"
     ]
    }
   ],
   "source": [
    "test_loss, test_acc = model.evaluate(x_test_rs, y_test)\n",
    "print (\"Test loss on 10000 test samples\", test_loss)\n",
    "print (\"Validation Accuracy on 10000 test samples\", test_acc)\n"
   ]
  },
  {
   "cell_type": "code",
   "execution_count": 11,
   "id": "6a59c94a",
   "metadata": {},
   "outputs": [
    {
     "data": {
      "text/plain": [
       "<matplotlib.image.AxesImage at 0x1f0e7c66d00>"
      ]
     },
     "execution_count": 11,
     "metadata": {},
     "output_type": "execute_result"
    },
    {
     "data": {
      "image/png": "[encoded data removed]",
      "text/plain": [
       "<Figure size 288x288 with 1 Axes>"
      ]
     },
     "metadata": {
      "needs_background": "light"
     },
     "output_type": "display_data"
    }
   ],
   "source": [
    "plt.matshow(x_test_rs[1])"
   ]
  },
  {
   "cell_type": "code",
   "execution_count": 12,
   "id": "87fb997c",
   "metadata": {},
   "outputs": [
    {
     "data": {
      "text/plain": [
       "2"
      ]
     },
     "execution_count": 12,
     "metadata": {},
     "output_type": "execute_result"
    }
   ],
   "source": [
    "y_test[1]"
   ]
  },
  {
   "cell_type": "code",
   "execution_count": 13,
   "id": "7814b5f2",
   "metadata": {},
   "outputs": [
    {
     "data": {
      "text/plain": [
       "array([3.8517719e-06, 7.6376182e-07, 9.9996352e-01, 9.2175906e-06,\n",
       "       1.4762449e-07, 2.9870630e-09, 1.9752002e-07, 1.5257890e-06,\n",
       "       2.0592201e-05, 1.3923848e-08], dtype=float32)"
      ]
     },
     "execution_count": 13,
     "metadata": {},
     "output_type": "execute_result"
    }
   ],
   "source": [
    "y_pred = model.predict( [x_test_rs])\n",
    "y_pred[1]"
   ]
  },
  {
   "cell_type": "code",
   "execution_count": 14,
   "id": "888cbcc5",
   "metadata": {},
   "outputs": [
    {
     "data": {
      "text/plain": [
       "2"
      ]
     },
     "execution_count": 14,
     "metadata": {},
     "output_type": "execute_result"
    }
   ],
   "source": [
    "np.argmax(y_pred[1])"
   ]
  },
  {
   "cell_type": "code",
   "execution_count": 15,
   "id": "dd9cbb0a",
   "metadata": {},
   "outputs": [
    {
     "data": {
      "text/plain": [
       "2"
      ]
     },
     "execution_count": 15,
     "metadata": {},
     "output_type": "execute_result"
    }
   ],
   "source": [
    "y_label = [np.argmax(i) for i in y_pred]\n",
    "y_label[1]"
   ]
  },
  {
   "cell_type": "code",
   "execution_count": 16,
   "id": "6967e986",
   "metadata": {},
   "outputs": [
    {
     "data": {
      "text/plain": [
       "<tf.Tensor: shape=(10, 10), dtype=int32, numpy=\n",
       "array([[ 948,    1,    3,    0,   13,    3,    4,    3,    3,    2],\n",
       "       [   0, 1125,    3,    4,    1,    0,    0,    2,    0,    0],\n",
       "       [   0,    2, 1014,    1,    1,    0,    1,   10,    3,    0],\n",
       "       [   0,    0,    4,  996,    0,    5,    0,    3,    2,    0],\n",
       "       [   0,    1,    0,    0,  978,    0,    1,    1,    0,    1],\n",
       "       [   1,    0,    1,    6,    0,  880,    1,    1,    2,    0],\n",
       "       [   2,    3,    0,    0,   12,    5,  931,    0,    5,    0],\n",
       "       [   0,    1,   12,    1,    0,    1,    0, 1011,    2,    0],\n",
       "       [   0,    0,    2,    0,    2,    0,    0,    1,  969,    0],\n",
       "       [   1,    0,    0,    1,   16,   11,    0,    5,   11,  964]])>"
      ]
     },
     "execution_count": 16,
     "metadata": {},
     "output_type": "execute_result"
    }
   ],
   "source": [
    "confusion_matrix = math.confusion_matrix(labels = y_test, predictions = y_label)\n",
    "confusion_matrix"
   ]
  },
  {
   "cell_type": "code",
   "execution_count": 17,
   "id": "0a0be423",
   "metadata": {},
   "outputs": [
    {
     "data": {
      "text/plain": [
       "Text(87.0, 0.5, 'y_test')"
      ]
     },
     "execution_count": 17,
     "metadata": {},
     "output_type": "execute_result"
    },
    {
     "data": {
      "image/png": "[encoded data removed]",
      "text/plain": [
       "<Figure size 864x576 with 2 Axes>"
      ]
     },
     "metadata": {
      "needs_background": "light"
     },
     "output_type": "display_data"
    }
   ],
   "source": [
    "plt.figure(figsize = (12,8 ))\n",
    "sns.heatmap(confusion_matrix, annot=True, fmt= 'd')\n",
    "plt.xlabel('y_pred')\n",
    "plt.ylabel('y_test')"
   ]
  },
  {
   "cell_type": "code",
   "execution_count": 18,
   "id": "4062afd1",
   "metadata": {},
   "outputs": [
    {
     "data": {
      "text/plain": [
       "(287, 445, 3)"
      ]
     },
     "execution_count": 18,
     "metadata": {},
     "output_type": "execute_result"
    },
    {
     "data": {
      "image/png": "[encoded data removed]",
      "text/plain": [
       "<Figure size 432x288 with 1 Axes>"
      ]
     },
     "metadata": {
      "needs_background": "light"
     },
     "output_type": "display_data"
    }
   ],
   "source": [
    "img_hand_written = cv2.imread('6.png')\n",
    "plt.imshow(img_hand_written)\n",
    "img_hand_written.shape"
   ]
  },
  {
   "cell_type": "code",
   "execution_count": 19,
   "id": "2e35dabd",
   "metadata": {},
   "outputs": [
    {
     "data": {
      "text/plain": [
       "(287, 445)"
      ]
     },
     "execution_count": 19,
     "metadata": {},
     "output_type": "execute_result"
    },
    {
     "data": {
      "image/png": "[encoded data removed]",
      "text/plain": [
       "<Figure size 432x288 with 1 Axes>"
      ]
     },
     "metadata": {
      "needs_background": "light"
     },
     "output_type": "display_data"
    }
   ],
   "source": [
    "img_gray = cv2.cvtColor(img_hand_written,cv2.COLOR_BGR2GRAY)\n",
    "plt.imshow(img_gray)\n",
    "img_gray.shape"
   ]
  },
  {
   "cell_type": "code",
   "execution_count": 20,
   "id": "054015ee",
   "metadata": {},
   "outputs": [
    {
     "data": {
      "text/plain": [
       "(28, 28)"
      ]
     },
     "execution_count": 20,
     "metadata": {},
     "output_type": "execute_result"
    },
    {
     "data": {
      "image/png": "[encoded data removed]",
      "text/plain": [
       "<Figure size 432x288 with 1 Axes>"
      ]
     },
     "metadata": {
      "needs_background": "light"
     },
     "output_type": "display_data"
    }
   ],
   "source": [
    "img_resized=cv2.resize(img_gray,(28,28), interpolation = cv2.INTER_AREA)\n",
    "plt.imshow(img_resized)\n",
    "img_resized.shape"
   ]
  },
  {
   "cell_type": "code",
   "execution_count": 21,
   "id": "f0adf363",
   "metadata": {},
   "outputs": [
    {
     "data": {
      "text/plain": [
       "<matplotlib.image.AxesImage at 0x1f0e7c05790>"
      ]
     },
     "execution_count": 21,
     "metadata": {},
     "output_type": "execute_result"
    },
    {
     "data": {
      "image/png": "[encoded data removed]",
      "text/plain": [
       "<Figure size 432x288 with 1 Axes>"
      ]
     },
     "metadata": {
      "needs_background": "light"
     },
     "output_type": "display_data"
    }
   ],
   "source": [
    "# Normalize\n",
    "img_new = img_resized/255\n",
    "plt.imshow(img_new)\n",
    "# img_new"
   ]
  },
  {
   "cell_type": "code",
   "execution_count": 22,
   "id": "787e6a43",
   "metadata": {},
   "outputs": [
    {
     "data": {
      "text/plain": [
       "(1, 28, 28, 1)"
      ]
     },
     "execution_count": 22,
     "metadata": {},
     "output_type": "execute_result"
    }
   ],
   "source": [
    "img_new = np.array(img_new).reshape(-1, IMG_SIZE, IMG_SIZE, 1)\n",
    "img_new.shape"
   ]
  },
  {
   "cell_type": "code",
   "execution_count": 23,
   "id": "40a22a6b",
   "metadata": {},
   "outputs": [
    {
     "name": "stdout",
     "output_type": "stream",
     "text": [
      "6\n"
     ]
    }
   ],
   "source": [
    "predictions = model.predict(img_new)\n",
    "print(np.argmax(predictions))"
   ]
  },
  {
   "cell_type": "code",
   "execution_count": 24,
   "id": "59067ed5",
   "metadata": {},
   "outputs": [
    {
     "data": {
      "image/png": "[encoded data removed]",
      "text/plain": [
       "<Figure size 432x288 with 1 Axes>"
      ]
     },
     "metadata": {
      "needs_background": "light"
     },
     "output_type": "display_data"
    }
   ],
   "source": [
    "import matplotlib.pyplot as plt\n",
    "Epochs = [1, 5, 10, 20]\n",
    "Training_Accuracy = [0.8128, 0.9888, 0.9948, 0.9980]\n",
    "Validation_Accuracy = [0.9662, 0.9806, 0.9850, 0.9872]\n",
    "Training_loss = [0.5714, 0.0344, 0.0155, 0.0070]\n",
    "Validation_loss = [0.1102, 0.0706, 0.0591, 0.0609]\n",
    "plt.plot(Epochs, Validation_Accuracy, color = 'green', label = 'Validation Accuracy' )\n",
    "plt.plot(Epochs, Training_Accuracy, color = 'orange', label = 'Training Accuracy' )\n",
    "plt.title('CNN Model Accuracy' , fontsize = 14)\n",
    "plt.xlabel('Epochs', fontsize = 14)\n",
    "plt.ylabel('Accuracy', fontsize = 14)\n",
    "plt.grid(True)\n",
    "plt.legend()\n",
    "plt.show()"
   ]
  },
  {
   "cell_type": "code",
   "execution_count": 25,
   "id": "ecf4ee2f",
   "metadata": {},
   "outputs": [
    {
     "data": {
      "text/plain": [
       "<matplotlib.legend.Legend at 0x1f0e82e05e0>"
      ]
     },
     "execution_count": 25,
     "metadata": {},
     "output_type": "execute_result"
    },
    {
     "data": {
      "image/png": "[encoded data removed]",
      "text/plain": [
       "<Figure size 432x288 with 1 Axes>"
      ]
     },
     "metadata": {
      "needs_background": "light"
     },
     "output_type": "display_data"
    }
   ],
   "source": [
    "plt.plot(Epochs, Training_loss, color = 'orange', label = 'Training Loss' )\n",
    "plt.plot(Epochs, Validation_loss, color = 'green', label = 'Validation Loss' )\n",
    "plt.title('CNN Model Loss' , fontsize = 14)\n",
    "plt.xlabel('Epochs', fontsize = 14)\n",
    "plt.ylabel('Loss', fontsize = 14)\n",
    "plt.legend()"
   ]
  },
  {
   "cell_type": "code",
   "execution_count": null,
   "id": "fdf13f19",
   "metadata": {},
   "outputs": [],
   "source": []
  }
 ],
 "metadata": {
  "kernelspec": {
   "display_name": "Python 3",
   "language": "python",
   "name": "python3"
  },
  "language_info": {
   "codemirror_mode": {
    "name": "ipython",
    "version": 3
   },
   "file_extension": ".py",
   "mimetype": "text/x-python",
   "name": "python",
   "nbconvert_exporter": "python",
   "pygments_lexer": "ipython3",
   "version": "3.8.8"
  }
 },
 "nbformat": 4,
 "nbformat_minor": 5
}
